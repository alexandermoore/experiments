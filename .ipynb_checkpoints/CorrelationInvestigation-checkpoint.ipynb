{
 "cells": [
  {
   "cell_type": "code",
   "execution_count": 509,
   "metadata": {
    "collapsed": false
   },
   "outputs": [],
   "source": [
    "import numpy as np\n",
    "import matplotlib.pyplot as plt\n",
    "import random\n",
    "import time"
   ]
  },
  {
   "cell_type": "code",
   "execution_count": 510,
   "metadata": {
    "collapsed": false
   },
   "outputs": [],
   "source": [
    "numpts = 2000\n",
    "numfeats = 1000\n",
    "# Create different vectors (each row is a data point, NxM matrix)\n",
    "X = []\n",
    "for p in range(numfeats):\n",
    "    X.append([np.random.normal(p, (p+1)*0.1) * (i + -p + (np.random.rand()*2*p)) for i in range(numpts)])\n",
    "X = np.array(X).T\n",
    "\n",
    "corrcalctime = time.time()\n",
    "X_truecorr = np.corrcoef(X, rowvar=0)\n",
    "\n",
    "corrcalctime = (time.time() - corrcalctime)*0.001"
   ]
  },
  {
   "cell_type": "code",
   "execution_count": 511,
   "metadata": {
    "collapsed": false
   },
   "outputs": [],
   "source": [
    "def get_subset(X, n=100):\n",
    "    rows = sorted(np.random.choice(np.arange(X.shape[0]), n, replace=False))\n",
    "    return X[rows,:]"
   ]
  },
  {
   "cell_type": "code",
   "execution_count": 512,
   "metadata": {
    "collapsed": false
   },
   "outputs": [],
   "source": [
    "# Get correlation matrix for each subset\n",
    "numiters = 50\n",
    "corrmats = []\n",
    "\n",
    "mycalctime = time.time()\n",
    "for i in range(numiters):\n",
    "    X_sub = get_subset(X, n=30)\n",
    "    corrmats.append(np.corrcoef(X_sub, rowvar=0))\n",
    "#print(corrmats[0] - X_truecorr)\n",
    "# Compute means of correlations seen so far with each iteration\n",
    "X_means = [0 for _ in range(numiters)]\n",
    "X_means[0] = corrmats[0]\n",
    "for i in range(1, numiters):\n",
    "    X_means[i] = (X_means[i - 1]*(i) + corrmats[i])/(i+1)\n",
    "\n",
    "mycalctime = (time.time() - mycalctime)*0.001"
   ]
  },
  {
   "cell_type": "code",
   "execution_count": 503,
   "metadata": {
    "collapsed": false
   },
   "outputs": [
    {
     "ename": "ValueError",
     "evalue": "operands could not be broadcast together with shapes (30,30) (2000,2000) ",
     "output_type": "error",
     "traceback": [
      "\u001b[1;31m---------------------------------------------------------------------------\u001b[0m",
      "\u001b[1;31mValueError\u001b[0m                                Traceback (most recent call last)",
      "\u001b[1;32m<ipython-input-503-fed3d4ab2538>\u001b[0m in \u001b[0;36m<module>\u001b[1;34m()\u001b[0m\n\u001b[0;32m      3\u001b[0m \u001b[0mX_diffs\u001b[0m \u001b[1;33m=\u001b[0m \u001b[1;33m[\u001b[0m\u001b[1;33m]\u001b[0m\u001b[1;33m\u001b[0m\u001b[0m\n\u001b[0;32m      4\u001b[0m \u001b[1;32mfor\u001b[0m \u001b[0mi\u001b[0m \u001b[1;32min\u001b[0m \u001b[0mrange\u001b[0m\u001b[1;33m(\u001b[0m\u001b[0mnumiters\u001b[0m\u001b[1;33m)\u001b[0m\u001b[1;33m:\u001b[0m\u001b[1;33m\u001b[0m\u001b[0m\n\u001b[1;32m----> 5\u001b[1;33m     \u001b[0mX_diffs\u001b[0m\u001b[1;33m.\u001b[0m\u001b[0mappend\u001b[0m\u001b[1;33m(\u001b[0m\u001b[0mabs\u001b[0m\u001b[1;33m(\u001b[0m\u001b[0mX_means\u001b[0m\u001b[1;33m[\u001b[0m\u001b[0mi\u001b[0m\u001b[1;33m]\u001b[0m \u001b[1;33m-\u001b[0m \u001b[0mX_truecorr\u001b[0m\u001b[1;33m)\u001b[0m\u001b[1;33m)\u001b[0m\u001b[1;33m\u001b[0m\u001b[0m\n\u001b[0m\u001b[0;32m      6\u001b[0m \u001b[1;31m#print(X_diffs[0])\u001b[0m\u001b[1;33m\u001b[0m\u001b[1;33m\u001b[0m\u001b[0m\n\u001b[0;32m      7\u001b[0m \u001b[1;31m# Now get max difference for each feature at each iteration\u001b[0m\u001b[1;33m\u001b[0m\u001b[1;33m\u001b[0m\u001b[0m\n",
      "\u001b[1;31mValueError\u001b[0m: operands could not be broadcast together with shapes (30,30) (2000,2000) "
     ]
    }
   ],
   "source": [
    "# Get abs differences between true correlation and mean correlation at each iteration each elem\n",
    "# is a (numfeats) x (numfeats) matrix. There are numiters elements.\n",
    "X_diffs = []\n",
    "for i in range(numiters):\n",
    "    X_diffs.append(abs(X_means[i] - X_truecorr))\n",
    "#print(X_diffs[0])\n",
    "# Now get max difference for each feature at each iteration\n",
    "feat_diffs = [[] for _ in range(numfeats)]\n",
    "for i in range(numiters):\n",
    "    for j in range(numfeats):\n",
    "        feat_diffs[j].append(np.mean(X_diffs[i][j,:]))"
   ]
  },
  {
   "cell_type": "code",
   "execution_count": null,
   "metadata": {
    "collapsed": false
   },
   "outputs": [],
   "source": [
    "for i in range(numfeats):\n",
    "    plt.plot(np.arange(numiters), feat_diffs[i], label=str(i+1))\n",
    "plt.legend()\n",
    "plt.show()\n",
    "\n",
    "plt.bar(np.arange(numfeats)+1, [min(feat_diffs[i]) for i in range(numfeats)])\n",
    "plt.show()"
   ]
  },
  {
   "cell_type": "markdown",
   "metadata": {},
   "source": [
    "### Conclusion ###\n",
    "Seems possible that taking many repeated samples and inspecting correlation of each could converge on the true correlation, but this convergence may be off slightly without enough iterations.\n",
    "\n",
    "The typical algoritm I would guess is $O(m^2)$, where $m$ is the number of features"
   ]
  },
  {
   "cell_type": "markdown",
   "metadata": {},
   "source": [
    "### Time difference ###"
   ]
  },
  {
   "cell_type": "code",
   "execution_count": 488,
   "metadata": {
    "collapsed": false
   },
   "outputs": [
    {
     "name": "stdout",
     "output_type": "stream",
     "text": [
      "corrcalctime - mycalctime =  -0.0011600015163421632 Max error = 0.0271703746837\n"
     ]
    }
   ],
   "source": [
    "print(\"corrcalctime - mycalctime = \", (corrcalctime - mycalctime), \"Max error =\", max([x[-1] for x in feat_diffs]))"
   ]
  },
  {
   "cell_type": "code",
   "execution_count": null,
   "metadata": {
    "collapsed": true
   },
   "outputs": [],
   "source": []
  }
 ],
 "metadata": {
  "anaconda-cloud": {},
  "kernelspec": {
   "display_name": "Python [Root]",
   "language": "python",
   "name": "Python [Root]"
  },
  "language_info": {
   "codemirror_mode": {
    "name": "ipython",
    "version": 3
   },
   "file_extension": ".py",
   "mimetype": "text/x-python",
   "name": "python",
   "nbconvert_exporter": "python",
   "pygments_lexer": "ipython3",
   "version": "3.5.2"
  }
 },
 "nbformat": 4,
 "nbformat_minor": 0
}
