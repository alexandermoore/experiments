{
 "cells": [
  {
   "cell_type": "code",
   "execution_count": 533,
   "metadata": {
    "collapsed": false
   },
   "outputs": [],
   "source": [
    "import numpy as np\n",
    "import matplotlib.pyplot as plt\n",
    "import random\n",
    "import time"
   ]
  },
  {
   "cell_type": "code",
   "execution_count": 534,
   "metadata": {
    "collapsed": false
   },
   "outputs": [],
   "source": [
    "numpts = 8000\n",
    "numfeats = 2100\n",
    "# Create different vectors (each row is a data point, NxM matrix)\n",
    "X = []\n",
    "for p in range(numfeats):\n",
    "    X.append([np.random.normal(p, (p+1)*0.1) * (i + -p + (np.random.rand()*2*p)) for i in range(numpts)])\n",
    "X = np.array(X).T\n",
    "\n",
    "corrcalctime = time.time()\n",
    "X_truecorr = np.corrcoef(X, rowvar=0)\n",
    "\n",
    "corrcalctime = (time.time() - corrcalctime)*0.001"
   ]
  },
  {
   "cell_type": "code",
   "execution_count": 535,
   "metadata": {
    "collapsed": false
   },
   "outputs": [],
   "source": [
    "def get_subset(X, n=100):\n",
    "    rows = sorted(np.random.choice(np.arange(X.shape[0]), n, replace=False))\n",
    "    return X[rows,:]"
   ]
  },
  {
   "cell_type": "code",
   "execution_count": 536,
   "metadata": {
    "collapsed": false
   },
   "outputs": [],
   "source": [
    "# Get correlation matrix for each subset\n",
    "numiters = 50\n",
    "corrmats = []\n",
    "\n",
    "mycalctime = time.time()\n",
    "for i in range(numiters):\n",
    "    X_sub = get_subset(X, n=30)\n",
    "    corrmats.append(np.corrcoef(X_sub, rowvar=0))\n",
    "#print(corrmats[0] - X_truecorr)\n",
    "# Compute means of correlations seen so far with each iteration\n",
    "X_means = [0 for _ in range(numiters)]\n",
    "X_means[0] = corrmats[0]\n",
    "for i in range(1, numiters):\n",
    "    X_means[i] = (X_means[i - 1]*(i) + corrmats[i])/(i+1)\n",
    "\n",
    "mycalctime = (time.time() - mycalctime)*0.001"
   ]
  },
  {
   "cell_type": "code",
   "execution_count": 537,
   "metadata": {
    "collapsed": false
   },
   "outputs": [],
   "source": [
    "# Get abs differences between true correlation and mean correlation at each iteration each elem\n",
    "# is a (numfeats) x (numfeats) matrix. There are numiters elements.\n",
    "X_diffs = []\n",
    "for i in range(numiters):\n",
    "    X_diffs.append(abs(X_means[i] - X_truecorr))\n",
    "#print(X_diffs[0])\n",
    "# Now get max difference for each feature at each iteration\n",
    "feat_diffs = [[] for _ in range(numfeats)]\n",
    "for i in range(numiters):\n",
    "    for j in range(numfeats):\n",
    "        feat_diffs[j].append(np.mean(X_diffs[i][j,:]))"
   ]
  },
  {
   "cell_type": "code",
   "execution_count": 538,
   "metadata": {
    "collapsed": false
   },
   "outputs": [],
   "source": [
    "for i in range(numfeats):\n",
    "    plt.plot(np.arange(numiters), feat_diffs[i], label=str(i+1))\n",
    "plt.legend()\n",
    "plt.show()\n",
    "\n",
    "plt.bar(np.arange(numfeats)+1, [min(feat_diffs[i]) for i in range(numfeats)])\n",
    "plt.show()"
   ]
  },
  {
   "cell_type": "markdown",
   "metadata": {},
   "source": [
    "### Conclusion ###\n",
    "Seems possible that taking many repeated samples and inspecting correlation of each could converge on the true correlation, but this convergence may be off slightly without enough iterations.\n",
    "\n",
    "However, this approach (at least in its current state) show no improvement over the typical approach, so this isn't worth it."
   ]
  },
  {
   "cell_type": "markdown",
   "metadata": {},
   "source": [
    "### Time difference ###"
   ]
  },
  {
   "cell_type": "code",
   "execution_count": 540,
   "metadata": {
    "collapsed": false
   },
   "outputs": [
    {
     "name": "stdout",
     "output_type": "stream",
     "text": [
      "corrcalctime - mycalctime =  -0.007444018125534057 Max error = 0.0193556482123\n"
     ]
    }
   ],
   "source": [
    "print(\"corrcalctime - mycalctime = \", (corrcalctime - mycalctime), \"Max error =\", max([x[-1] for x in feat_diffs]))"
   ]
  },
  {
   "cell_type": "code",
   "execution_count": null,
   "metadata": {
    "collapsed": true
   },
   "outputs": [],
   "source": []
  }
 ],
 "metadata": {
  "anaconda-cloud": {},
  "kernelspec": {
   "display_name": "Python [Root]",
   "language": "python",
   "name": "Python [Root]"
  },
  "language_info": {
   "codemirror_mode": {
    "name": "ipython",
    "version": 3
   },
   "file_extension": ".py",
   "mimetype": "text/x-python",
   "name": "python",
   "nbconvert_exporter": "python",
   "pygments_lexer": "ipython3",
   "version": "3.5.2"
  }
 },
 "nbformat": 4,
 "nbformat_minor": 0
}
